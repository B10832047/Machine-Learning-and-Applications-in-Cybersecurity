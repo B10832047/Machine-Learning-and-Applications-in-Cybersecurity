{
 "cells": [
  {
   "cell_type": "code",
   "execution_count": 1,
   "id": "e5e64abe",
   "metadata": {},
   "outputs": [],
   "source": [
    "from __future__ import print_function\n",
    "import keras\n",
    "import tensorflow as tf\n",
    "from tensorflow.keras.datasets import mnist\n",
    "from tensorflow.keras.layers import Conv2D, MaxPooling2D, BatchNormalization, Activation, Concatenate\n",
    "from tensorflow.keras import backend as K\n",
    "from tensorflow.keras.callbacks import ModelCheckpoint, EarlyStopping\n",
    "from tensorflow.keras.models import Model\n",
    "from tensorflow.keras.layers import Input, Flatten, Dense, Lambda\n",
    "from siamese import SiameseNetwork\n",
    "import numpy as np"
   ]
  },
  {
   "cell_type": "code",
   "execution_count": 2,
   "id": "a802826c",
   "metadata": {},
   "outputs": [],
   "source": [
    "batch_size = 128\n",
    "num_classes = 10\n",
    "epochs = 10"
   ]
  },
  {
   "cell_type": "code",
   "execution_count": 3,
   "id": "fc9f71b4",
   "metadata": {},
   "outputs": [],
   "source": [
    "def create_base_model(input_shape):\n",
    "    model_input = Input(shape=input_shape)\n",
    "\n",
    "    embedding = Conv2D(64, kernel_size=(4, 4), input_shape=input_shape)(model_input)\n",
    "    embedding = BatchNormalization()(embedding)\n",
    "    embedding = Activation(activation='relu')(embedding)\n",
    "    embedding = MaxPooling2D(pool_size=(2, 2))(embedding)\n",
    "    \n",
    "    embedding = Conv2D(128, kernel_size=(3, 3))(embedding)\n",
    "    embedding = BatchNormalization()(embedding)\n",
    "    embedding = Activation(activation='relu')(embedding)\n",
    "    embedding = MaxPooling2D(pool_size=(2, 2))(embedding)\n",
    "    \n",
    "    \n",
    "    embedding = Flatten()(embedding)\n",
    "    embedding = Dense(256)(embedding)\n",
    "    embedding = BatchNormalization()(embedding)\n",
    "    embedding = Activation(activation='sigmoid')(embedding)\n",
    "\n",
    "    return Model(model_input, embedding)\n",
    "\n",
    "\n",
    "def create_head_model(embedding_shape):\n",
    "    embedding_a = Input(shape=embedding_shape[1:])\n",
    "    embedding_b = Input(shape=embedding_shape[1:])\n",
    "\n",
    "#     head = Concatenate()([embedding_a, embedding_b])\n",
    "#     head = Dense(8)(head)\n",
    "#     head = BatchNormalization()(head)\n",
    "#     head = Activation(activation='sigmoid')(head)\n",
    "\n",
    "#     head = Dense(1)(head)\n",
    "#     head = BatchNormalization()(head)\n",
    "#     head = Activation(activation='sigmoid')(head)\n",
    "    \n",
    "    L1_layer = Lambda(lambda tensors:K.abs(tensors[0] - tensors[1]))\n",
    "    L1_distance = L1_layer([embedding_a, embedding_b])\n",
    "    prediction = Dense(1,activation='sigmoid')(L1_distance)\n",
    "\n",
    "    return Model([embedding_a, embedding_b], prediction)"
   ]
  },
  {
   "cell_type": "markdown",
   "id": "b6190923",
   "metadata": {},
   "source": [
    "## 以下是測試 3 way 5 shot"
   ]
  },
  {
   "cell_type": "code",
   "execution_count": 4,
   "id": "30e2e576",
   "metadata": {},
   "outputs": [],
   "source": [
    "from os import listdir\n",
    "from os.path import isfile, join\n",
    "import pandas as pd\n",
    "import numpy as np\n",
    "from collections import Counter\n",
    "from PIL import Image\n",
    "import matplotlib.pyplot as plt\n",
    "from PIL import ImageColor\n",
    "from sklearn.cluster import KMeans\n",
    "from sklearn import preprocessing"
   ]
  },
  {
   "cell_type": "code",
   "execution_count": 5,
   "id": "413b68eb",
   "metadata": {},
   "outputs": [
    {
     "name": "stdout",
     "output_type": "stream",
     "text": [
      "Amount of the files: 31\n"
     ]
    }
   ],
   "source": [
    "# 讀入預先選好的訓練資料\n",
    "folder = 'E:\\大學\\大四上\\機器學習與資訊安全之應用\\image'\n",
    "files = [f for f in listdir(folder) if isfile(join(folder, f))]\n",
    "print('Amount of the files:', len(files))"
   ]
  },
  {
   "cell_type": "code",
   "execution_count": 6,
   "id": "4c20b2f2",
   "metadata": {},
   "outputs": [
    {
     "name": "stderr",
     "output_type": "stream",
     "text": [
      "C:\\Users\\cherry\\anaconda3\\lib\\site-packages\\IPython\\core\\interactiveshell.py:3165: DtypeWarning: Columns (2) have mixed types.Specify dtype option on import or set low_memory=False.\n",
      "  has_raised = await self.run_ast_nodes(code_ast.body, cell_name,\n"
     ]
    }
   ],
   "source": [
    "malware_family = pd.read_csv(\"E:\\大學\\大四上\\機器學習與資訊安全之應用\\dataset.csv\")\n",
    "def query_family(filename):\n",
    "    for idx, fname in enumerate(malware_family['filename']):\n",
    "        if fname == filename:\n",
    "            return malware_family['label'][idx]\n",
    "    return 'file not found!'"
   ]
  },
  {
   "cell_type": "code",
   "execution_count": 7,
   "id": "ff01bc87",
   "metadata": {},
   "outputs": [
    {
     "name": "stdout",
     "output_type": "stream",
     "text": [
      "3\n"
     ]
    },
    {
     "data": {
      "text/plain": [
       "[('Unknown', 11), ('Mirai', 10), ('Android', 10)]"
      ]
     },
     "execution_count": 7,
     "metadata": {},
     "output_type": "execute_result"
    }
   ],
   "source": [
    "all_category_count = []\n",
    "for idx, file in enumerate(files):\n",
    "    all_category_count.append(query_family(file[0:-4]))\n",
    "\n",
    "counter = Counter(all_category_count)\n",
    "print(len(counter))\n",
    "counter.most_common(20)"
   ]
  },
  {
   "cell_type": "code",
   "execution_count": 8,
   "id": "baa3b762",
   "metadata": {},
   "outputs": [],
   "source": [
    "folder = \"E:\\大學\\大四上\\機器學習與資訊安全之應用\\data/\"\n",
    "def making_image(counting_matrix, unit = 16):\n",
    "    image = np.zeros((unit, unit, 3), dtype=np.uint8)\n",
    "    for i in range(unit):\n",
    "        for j in range(unit):\n",
    "            rgb_value = ImageColor.getcolor(color_mapping(counting_matrix[i][j], i), \"RGB\")\n",
    "            image[i][j] = list(rgb_value)\n",
    "    img = Image.fromarray(image, 'RGB')\n",
    "#     plt.imshow(img)\n",
    "#     plt.show()\n",
    "    return image\n",
    "def catagory_encode(c):\n",
    "    all_catagory = [\"unistd.h\", \"uio.h\", \"stdlib.h\", \"signal.h\", \"socket.h\", \"time.h\", \"fcntl.h\", \"prctl.h\", \"wait.h\", \"stat.h\",\n",
    "                   \"mman.h\", \"resource.h\", \"SIG\", \"syscall.h\", \"futex.h\", \"other\"]\n",
    "    for idx, catagory in enumerate(all_catagory):\n",
    "        if catagory == c:\n",
    "            return idx\n",
    "    return -1\n",
    "\n",
    "def get_syscall_catagory(syscall):\n",
    "    catagories = []\n",
    "    if syscall in [\"execve\", \"getpid\", \"exit_group\", \"rt_sigprocmask\", \"close\", \"brk\", \"getppid\", \"write\", \"fork\", \"setsid\",\n",
    "                  \"read\", \"getdents64\", \"readlink\", \"socketcall\", \"chdir\", \"setuid32\", \"setresuid32\", \"access\", \"vfork\", \n",
    "                  \"set_thread_area\", \"set_tid_address\", \"mmap2\", \"getuid32\", \"getcwd\", \"unlink\", \"rmdir\", \"arch_prctl\", \n",
    "                   \"set_robust_list\", \"futex\", \"pipe2\", \"gettid\", \"clone\", \"lseek\", \"getdents\", \"geteuid32\", \"setuid\", \n",
    "                   \"setresuid\", \"getuid\", \"dup2\", \"readlinkat\", \"geteuid\", \"fchown\", \"pipe\"]:\n",
    "        catagories.append(\"unistd.h\")\n",
    "    if syscall in [\"writev\", \"readv\"]:\n",
    "        catagories.append(\"uio.h\")\n",
    "    if syscall in [\"EXIT\", \"exit\"]:\n",
    "        catagories.append(\"stdlib.h\")\n",
    "    if syscall in [\"rt_sigprocmask\", \"rt_sigaction\", \"kill\", \"KILL\"]:\n",
    "        catagories.append(\"signal.h\")\n",
    "    if syscall in [\"socket\", \"connect\", \"getsockname\", \"setsockopt\", \"sendto\", \"recvfrom\", \"getsockopt\", \"recv\", \"bind\", \n",
    "                   \"listen\", \"send\"]:\n",
    "        catagories.append(\"socket.h\")\n",
    "    if syscall in [\"time\", \"nanosleep\", \"clock_getres\", \"clock_gettime\", \"gettimeofday\"]:\n",
    "        catagories.append(\"time.h\")\n",
    "    if syscall in [\"fcntl\", \"open\", \"access\", \"fcntl64\", \"unlink\", \"fchown32\", \"rename\", \"stat\", \"openat\", \"dup2\", \"oldstat\"]:\n",
    "        catagories.append(\"fcntl.h\")\n",
    "    if syscall in [\"prctl\", \"arch_prctl\"]:\n",
    "        catagories.append(\"prctl.h\")\n",
    "    if syscall in [\"wait4\", \"waitpid\"]:\n",
    "        catagories.append(\"wait.h\")\n",
    "    if syscall in [\"fstat\", \"fstat64\", \"stat64\", \"lstat64\", \"fchmod\", \"fchown32\", \"stat\", \"umask\", \"lstat\", \"oldstat\", \"chmod\"]:\n",
    "        catagories.append(\"stat.h\")\n",
    "    if syscall in [\"mmap2\", \"mprotect\", \"munmap\", \"mmap\"]:\n",
    "        catagories.append(\"mman.h\")\n",
    "    if syscall in [\"getrlimit\", \"ugetrlimit\", \"setrlimit\"]:\n",
    "        catagories.append(\"resource.h\")\n",
    "    if syscall[0:3] == \"SIG\":\n",
    "        catagories.append(\"SIG\")\n",
    "    if syscall in [\"exit_group\", \"rt_sigprocmask\", \"getdents64\", \"socketcall\", \"access\", \"set_thread_area\", \"set_tid_address\",\n",
    "                  \"mmap2\", \"arch_prctl\", \"set_robust_list\", \"futex\", \"clone\", \"getdents\"]:\n",
    "        catagories.append(\"syscall.h\")\n",
    "    if syscall in [\"set_robust_list\", \"futex\"]:\n",
    "        catagories.append(\"futex.h\")\n",
    "    if len(catagories) == 0:\n",
    "        catagories.append(\"other\")\n",
    "    return catagories\n",
    "\n",
    "def extract_API_seqence_to_counting_matrix(filename, unit = 16):\n",
    "    sample = pd.read_csv(folder + filename)\n",
    "    api_seq = sample[sample.columns[1:3]]\n",
    "    unit_time = (sample['TIMESTAMP'][len(sample) - 1] - sample['TIMESTAMP'][0]) / unit\n",
    "    #api_seq['TIMESTAMP'] -= api_seq['TIMESTAMP'][0] # 扣掉起始時間\n",
    "    #api_seq['TIMESTAMP'] = api_seq['TIMESTAMP'] // unit_time # 看是第幾個 unit \n",
    "    #api_seq['TIMESTAMP'] = api_seq['TIMESTAMP'].apply(lambda x: int(unit - 1) if x == unit else int(x)) # 避免超出範圍，同時轉為整數\n",
    "    api_seq.iloc[:, 0] = api_seq['TIMESTAMP'] - api_seq['TIMESTAMP'][0] # 扣掉起始時間\n",
    "    api_seq.iloc[:, 0] = api_seq['TIMESTAMP'] // unit_time # 看是第幾個 unit\n",
    "    api_seq.iloc[:, 0] = api_seq['TIMESTAMP'].apply(lambda x: int(unit - 1) if x == unit else int(x)) # 避免超出範圍，同時轉為整數\n",
    "    print('unit_time:', unit_time)\n",
    "    \n",
    "    api_seq_in_each_period = []\n",
    "    for i in range(unit):\n",
    "        api_seq_in_each_period.append([])\n",
    "    for idx in range(len(api_seq)):\n",
    "        api_seq_in_each_period[api_seq['TIMESTAMP'][idx]].append(api_seq['SYSCALL'][idx])\n",
    "        \n",
    "    counting_catagory_matrix = np.zeros((unit, unit))\n",
    "    for i in range(unit):\n",
    "        counter = Counter(api_seq_in_each_period[i])\n",
    "        for key in counter.keys():\n",
    "            key_catagory = get_syscall_catagory(key)\n",
    "            for catagory in key_catagory:\n",
    "                counting_catagory_matrix[i][catagory_encode(catagory)] += counter[key]\n",
    "    return counting_catagory_matrix, unit_time\n",
    "def color_mapping(occurence, category_idx):\n",
    "    matrix = [\n",
    "        [\"#FFFFFF\", \"#FFC1E0\", \"#FFAAD5\", \"#FF95CA\", \"#FF79BC\", \"#FF60AF\", \"#FF359A\", \"#FF0080\", \"#F00078\", \"#D9006C\", \"#BF0060\"],\n",
    "        [\"#FFFFFF\", \"#FFBFFF\", \"#FFA6FF\", \"#FF8EFF\", \"#FF77FF\", \"#FF44FF\", \"#FF00FF\", \"#E800E8\", \"#D200D2\", \"#AE00AE\", \"#930093\"],\n",
    "        [\"#FFFFFF\", \"#FFDAC8\", \"#FFCBB3\", \"#FFBD9D\", \"#FFAD86\", \"#FF9D6F\", \"#FF8F59\", \"#FF8040\", \"#FF5809\", \"#F75000\", \"#D94600\"],\n",
    "        [\"#FFFFFF\", \"#D3FF93\", \"#CCFF80\", \"#B7FF4A\", \"#A8FF24\", \"#9AFF02\", \"#8CEA00\", \"#82D900\", \"#73BF00\", \"#64A600\", \"#548C00\"],\n",
    "        [\"#FFFFFF\", \"#CAFFFF\", \"#BBFFFF\", \"#A6FFFF\", \"#4DFFFF\", \"#00FFFF\", \"#00E3E3\", \"#00CACA\", \"#00AEAE\", \"#009393\", \"#005757\"],\n",
    "        [\"#FFFFFF\", \"#C1FFE4\", \"#ADFEDC\", \"#96FED1\", \"#4EFEB3\", \"#1AFD9C\", \"#02F78E\", \"#02DF82\", \"#01B468\", \"#019858\", \"#01814A\"],\n",
    "        [\"#FFFFFF\", \"#D6D6AD\", \"#CDCD9A\", \"#C2C287\", \"#B9B973\", \"#AFAF61\", \"#A5A552\", \"#949449\", \"#808040\", \"#707038\", \"#616130\"],\n",
    "        [\"#FFFFFF\", \"#DCB5FF\", \"#D3A4FF\", \"#CA8EFF\", \"#BE77FF\", \"#B15BFF\", \"#9F35FF\", \"#921AFF\", \"#8600FF\", \"#6E00FF\", \"#5B00AE\"],\n",
    "        [\"#FFFFFF\", \"#FFFF6F\", \"#FFFF37\", \"#F9F900\", \"#E1E100\", \"#C4C400\", \"#A6A600\", \"#8C8C00\", \"#737300\", \"#5B5B00\", \"#5B5B00\"],\n",
    "        [\"#FFFFFF\", \"#FFE66F\", \"#FFE153\", \"#FFDC35\", \"#FFD306\", \"#EAC100\", \"#D9B300\", \"#C6A300\", \"#AE8F00\", \"#977C00\", \"#796400\"],\n",
    "        [\"#FFFFFF\", \"#D8D8EB\", \"#C7C7E2\", \"#B8B8DC\", \"#A6A6D2\", \"#9999CC\", \"#8080C0\", \"#7373B9\", \"#5A5AAD\", \"#5151A2\", \"#484891\"],\n",
    "        [\"#FFFFFF\", \"#97CBFF\", \"#84C1FF\", \"#66B3FF\", \"#46A3FF\", \"#2894FF\", \"#0080FF\", \"#0072E3\", \"#0066CC\", \"#005AB5\", \"#004B97\"],\n",
    "        [\"#FFFFFF\", \"#B9B9FF\", \"#AAAAFF\", \"#9393FF\", \"#7D7DFF\", \"#6A6AFF\", \"#4A4AFF\", \"#2828FF\", \"#0000E3\", \"#0000C6\", \"#0000C6\"],\n",
    "        [\"#FFFFFF\", \"#FFD1A4\", \"#FFC78E\", \"#FFBB77\", \"#FFAF60\", \"#FFA042\", \"#FF9224\", \"#FF8000\", \"#EA7500\", \"#D26900\", \"#BB5E00\"],\n",
    "        [\"#FFFFFF\", \"#FF9797\", \"#FF7575\", \"#FF5151\", \"#FF2D2D\", \"#FF0000\", \"#EA0000\", \"#CE0000\", \"#AE0000\", \"#930000\", \"#750000\"],\n",
    "        [\"#FFFFFF\", \"#93FF93\", \"#79FF79\", \"#53FF53\", \"#28FF28\", \"#00EC00\", \"#00DB00\", \"#00BB00\", \"#00A600\", \"#009100\", \"#007500\"]\n",
    "    ]\n",
    "    if occurence == 0:\n",
    "        idx = 0\n",
    "    elif occurence < 3:\n",
    "        idx = 1\n",
    "    elif occurence < 7:\n",
    "        idx = 2\n",
    "    elif occurence < 12:\n",
    "        idx = 3\n",
    "    elif occurence < 18:\n",
    "        idx = 4\n",
    "    elif occurence < 25:\n",
    "        idx = 5\n",
    "    elif occurence < 33:\n",
    "        idx = 6\n",
    "    elif occurence < 42:\n",
    "        idx = 7\n",
    "    elif occurence < 100:\n",
    "        idx = 8\n",
    "    elif occurence < 200:\n",
    "        idx = 9\n",
    "    else :\n",
    "        idx = 10\n",
    "    return matrix[category_idx][idx]"
   ]
  },
  {
   "cell_type": "code",
   "execution_count": 9,
   "id": "563f6c70",
   "metadata": {},
   "outputs": [
    {
     "name": "stderr",
     "output_type": "stream",
     "text": [
      "C:\\Users\\cherry\\anaconda3\\lib\\site-packages\\pandas\\core\\indexing.py:1676: SettingWithCopyWarning: \n",
      "A value is trying to be set on a copy of a slice from a DataFrame.\n",
      "Try using .loc[row_indexer,col_indexer] = value instead\n",
      "\n",
      "See the caveats in the documentation: https://pandas.pydata.org/pandas-docs/stable/user_guide/indexing.html#returning-a-view-versus-a-copy\n",
      "  self._setitem_single_column(ilocs[0], value, pi)\n"
     ]
    },
    {
     "name": "stdout",
     "output_type": "stream",
     "text": [
      "unit_time: 7.515083879232407\n",
      "Mirai\n"
     ]
    },
    {
     "data": {
      "image/png": "[encoded data removed]",
      "text/plain": [
       "<Figure size 432x288 with 1 Axes>"
      ]
     },
     "metadata": {
      "needs_background": "light"
     },
     "output_type": "display_data"
    },
    {
     "name": "stdout",
     "output_type": "stream",
     "text": [
      "unit_time: 7.345082998275757\n",
      "Mirai\n"
     ]
    },
    {
     "data": {
      "image/png": "[encoded data removed]",
      "text/plain": [
       "<Figure size 432x288 with 1 Axes>"
      ]
     },
     "metadata": {
      "needs_background": "light"
     },
     "output_type": "display_data"
    },
    {
     "name": "stderr",
     "output_type": "stream",
     "text": [
      "C:\\Users\\cherry\\anaconda3\\lib\\site-packages\\IPython\\core\\interactiveshell.py:3357: DtypeWarning: Columns (3,6,8,12) have mixed types.Specify dtype option on import or set low_memory=False.\n",
      "  if (await self.run_code(code, result,  async_=asy)):\n"
     ]
    },
    {
     "name": "stdout",
     "output_type": "stream",
     "text": [
      "unit_time: 7.523230314254761\n",
      "Mirai\n"
     ]
    },
    {
     "data": {
      "image/png": "[encoded data removed]",
      "text/plain": [
       "<Figure size 432x288 with 1 Axes>"
      ]
     },
     "metadata": {
      "needs_background": "light"
     },
     "output_type": "display_data"
    },
    {
     "name": "stdout",
     "output_type": "stream",
     "text": [
      "unit_time: 7.468452870845795\n",
      "Mirai\n"
     ]
    },
    {
     "data": {
      "image/png": "[encoded data removed]",
      "text/plain": [
       "<Figure size 432x288 with 1 Axes>"
      ]
     },
     "metadata": {
      "needs_background": "light"
     },
     "output_type": "display_data"
    },
    {
     "name": "stdout",
     "output_type": "stream",
     "text": [
      "unit_time: 7.577550932765007\n",
      "Mirai\n"
     ]
    },
    {
     "data": {
      "image/png": "[encoded data removed]",
      "text/plain": [
       "<Figure size 432x288 with 1 Axes>"
      ]
     },
     "metadata": {
      "needs_background": "light"
     },
     "output_type": "display_data"
    },
    {
     "name": "stdout",
     "output_type": "stream",
     "text": [
      "unit_time: 7.533068507909775\n",
      "Mirai\n"
     ]
    },
    {
     "data": {
      "image/png": "[encoded data removed]",
      "text/plain": [
       "<Figure size 432x288 with 1 Axes>"
      ]
     },
     "metadata": {
      "needs_background": "light"
     },
     "output_type": "display_data"
    },
    {
     "name": "stderr",
     "output_type": "stream",
     "text": [
      "C:\\Users\\cherry\\anaconda3\\lib\\site-packages\\IPython\\core\\interactiveshell.py:3357: DtypeWarning: Columns (8) have mixed types.Specify dtype option on import or set low_memory=False.\n",
      "  if (await self.run_code(code, result,  async_=asy)):\n"
     ]
    },
    {
     "name": "stdout",
     "output_type": "stream",
     "text": [
      "unit_time: 7.648858368396759\n",
      "Unknown\n"
     ]
    },
    {
     "data": {
      "image/png": "[encoded data removed]",
      "text/plain": [
       "<Figure size 432x288 with 1 Axes>"
      ]
     },
     "metadata": {
      "needs_background": "light"
     },
     "output_type": "display_data"
    },
    {
     "name": "stderr",
     "output_type": "stream",
     "text": [
      "C:\\Users\\cherry\\anaconda3\\lib\\site-packages\\IPython\\core\\interactiveshell.py:3357: DtypeWarning: Columns (11) have mixed types.Specify dtype option on import or set low_memory=False.\n",
      "  if (await self.run_code(code, result,  async_=asy)):\n"
     ]
    },
    {
     "name": "stdout",
     "output_type": "stream",
     "text": [
      "unit_time: 7.5880448669195175\n",
      "Mirai\n"
     ]
    },
    {
     "data": {
      "image/png": "[encoded data removed]",
      "text/plain": [
       "<Figure size 432x288 with 1 Axes>"
      ]
     },
     "metadata": {
      "needs_background": "light"
     },
     "output_type": "display_data"
    },
    {
     "name": "stdout",
     "output_type": "stream",
     "text": [
      "unit_time: 7.617846995592117\n",
      "Unknown\n"
     ]
    },
    {
     "data": {
      "image/png": "[encoded data removed]",
      "text/plain": [
       "<Figure size 432x288 with 1 Axes>"
      ]
     },
     "metadata": {
      "needs_background": "light"
     },
     "output_type": "display_data"
    },
    {
     "name": "stdout",
     "output_type": "stream",
     "text": [
      "unit_time: 7.645029813051224\n",
      "Mirai\n"
     ]
    },
    {
     "data": {
      "image/png": "[encoded data removed]",
      "text/plain": [
       "<Figure size 432x288 with 1 Axes>"
      ]
     },
     "metadata": {
      "needs_background": "light"
     },
     "output_type": "display_data"
    },
    {
     "name": "stdout",
     "output_type": "stream",
     "text": [
      "unit_time: 7.660736441612244\n",
      "Mirai\n"
     ]
    },
    {
     "data": {
      "image/png": "[encoded data removed]",
      "text/plain": [
       "<Figure size 432x288 with 1 Axes>"
      ]
     },
     "metadata": {
      "needs_background": "light"
     },
     "output_type": "display_data"
    },
    {
     "name": "stdout",
     "output_type": "stream",
     "text": [
      "unit_time: 7.013750001788139\n",
      "Mirai\n"
     ]
    },
    {
     "data": {
      "image/png": "[encoded data removed]",
      "text/plain": [
       "<Figure size 432x288 with 1 Axes>"
      ]
     },
     "metadata": {
      "needs_background": "light"
     },
     "output_type": "display_data"
    },
    {
     "name": "stdout",
     "output_type": "stream",
     "text": [
      "unit_time: 0.007379636168479919\n",
      "Android\n"
     ]
    },
    {
     "data": {
      "image/png": "[encoded data removed]",
      "text/plain": [
       "<Figure size 432x288 with 1 Axes>"
      ]
     },
     "metadata": {
      "needs_background": "light"
     },
     "output_type": "display_data"
    },
    {
     "name": "stdout",
     "output_type": "stream",
     "text": [
      "unit_time: 7.530603751540184\n",
      "Unknown\n"
     ]
    },
    {
     "data": {
      "image/png": "[encoded data removed]",
      "text/plain": [
       "<Figure size 432x288 with 1 Axes>"
      ]
     },
     "metadata": {
      "needs_background": "light"
     },
     "output_type": "display_data"
    },
    {
     "name": "stdout",
     "output_type": "stream",
     "text": [
      "unit_time: 7.680353119969368\n",
      "Unknown\n"
     ]
    },
    {
     "data": {
      "image/png": "[encoded data removed]",
      "text/plain": [
       "<Figure size 432x288 with 1 Axes>"
      ]
     },
     "metadata": {
      "needs_background": "light"
     },
     "output_type": "display_data"
    },
    {
     "name": "stdout",
     "output_type": "stream",
     "text": [
      "unit_time: 7.58690869808197\n",
      "Unknown\n"
     ]
    },
    {
     "data": {
      "image/png": "[encoded data removed]",
      "text/plain": [
       "<Figure size 432x288 with 1 Axes>"
      ]
     },
     "metadata": {
      "needs_background": "light"
     },
     "output_type": "display_data"
    },
    {
     "name": "stdout",
     "output_type": "stream",
     "text": [
      "unit_time: 0.0007838159799575806\n",
      "Android\n"
     ]
    },
    {
     "data": {
      "image/png": "[encoded data removed]",
      "text/plain": [
       "<Figure size 432x288 with 1 Axes>"
      ]
     },
     "metadata": {
      "needs_background": "light"
     },
     "output_type": "display_data"
    },
    {
     "name": "stdout",
     "output_type": "stream",
     "text": [
      "unit_time: 7.598620802164078\n",
      "Unknown\n"
     ]
    },
    {
     "data": {
      "image/png": "[encoded data removed]",
      "text/plain": [
       "<Figure size 432x288 with 1 Axes>"
      ]
     },
     "metadata": {
      "needs_background": "light"
     },
     "output_type": "display_data"
    },
    {
     "name": "stdout",
     "output_type": "stream",
     "text": [
      "unit_time: 7.752334758639336\n",
      "Unknown\n"
     ]
    },
    {
     "data": {
      "image/png": "[encoded data removed]",
      "text/plain": [
       "<Figure size 432x288 with 1 Axes>"
      ]
     },
     "metadata": {
      "needs_background": "light"
     },
     "output_type": "display_data"
    },
    {
     "name": "stdout",
     "output_type": "stream",
     "text": [
      "unit_time: 7.512174054980278\n",
      "Unknown\n"
     ]
    },
    {
     "data": {
      "image/png": "[encoded data removed]",
      "text/plain": [
       "<Figure size 432x288 with 1 Axes>"
      ]
     },
     "metadata": {
      "needs_background": "light"
     },
     "output_type": "display_data"
    },
    {
     "name": "stdout",
     "output_type": "stream",
     "text": [
      "unit_time: 7.556053251028061\n",
      "Unknown\n"
     ]
    },
    {
     "data": {
      "image/png": "[encoded data removed]",
      "text/plain": [
       "<Figure size 432x288 with 1 Axes>"
      ]
     },
     "metadata": {
      "needs_background": "light"
     },
     "output_type": "display_data"
    },
    {
     "name": "stdout",
     "output_type": "stream",
     "text": [
      "unit_time: 0.006828561425209045\n",
      "Android\n"
     ]
    },
    {
     "data": {
      "image/png": "[encoded data removed]",
      "text/plain": [
       "<Figure size 432x288 with 1 Axes>"
      ]
     },
     "metadata": {
      "needs_background": "light"
     },
     "output_type": "display_data"
    },
    {
     "name": "stdout",
     "output_type": "stream",
     "text": [
      "unit_time: 0.0014632493257522583\n",
      "Android\n"
     ]
    },
    {
     "data": {
      "image/png": "[encoded data removed]",
      "text/plain": [
       "<Figure size 432x288 with 1 Axes>"
      ]
     },
     "metadata": {
      "needs_background": "light"
     },
     "output_type": "display_data"
    },
    {
     "name": "stdout",
     "output_type": "stream",
     "text": [
      "unit_time: 0.001542508602142334\n",
      "Android\n"
     ]
    },
    {
     "data": {
      "image/png": "[encoded data removed]",
      "text/plain": [
       "<Figure size 432x288 with 1 Axes>"
      ]
     },
     "metadata": {
      "needs_background": "light"
     },
     "output_type": "display_data"
    },
    {
     "name": "stdout",
     "output_type": "stream",
     "text": [
      "unit_time: 0.0009556859731674194\n",
      "Android\n"
     ]
    },
    {
     "data": {
      "image/png": "[encoded data removed]",
      "text/plain": [
       "<Figure size 432x288 with 1 Axes>"
      ]
     },
     "metadata": {
      "needs_background": "light"
     },
     "output_type": "display_data"
    },
    {
     "name": "stdout",
     "output_type": "stream",
     "text": [
      "unit_time: 0.0007383078336715698\n",
      "Android\n"
     ]
    },
    {
     "data": {
      "image/png": "[encoded data removed]",
      "text/plain": [
       "<Figure size 432x288 with 1 Axes>"
      ]
     },
     "metadata": {
      "needs_background": "light"
     },
     "output_type": "display_data"
    },
    {
     "name": "stdout",
     "output_type": "stream",
     "text": [
      "unit_time: 0.0006234347820281982\n",
      "Android\n"
     ]
    },
    {
     "data": {
      "image/png": "[encoded data removed]",
      "text/plain": [
       "<Figure size 432x288 with 1 Axes>"
      ]
     },
     "metadata": {
      "needs_background": "light"
     },
     "output_type": "display_data"
    },
    {
     "name": "stdout",
     "output_type": "stream",
     "text": [
      "unit_time: 0.005691811442375183\n",
      "Android\n"
     ]
    },
    {
     "data": {
      "image/png": "[encoded data removed]",
      "text/plain": [
       "<Figure size 432x288 with 1 Axes>"
      ]
     },
     "metadata": {
      "needs_background": "light"
     },
     "output_type": "display_data"
    },
    {
     "name": "stdout",
     "output_type": "stream",
     "text": [
      "unit_time: 7.565739631652832\n",
      "Unknown\n"
     ]
    },
    {
     "data": {
      "image/png": "[encoded data removed]",
      "text/plain": [
       "<Figure size 432x288 with 1 Axes>"
      ]
     },
     "metadata": {
      "needs_background": "light"
     },
     "output_type": "display_data"
    },
    {
     "name": "stdout",
     "output_type": "stream",
     "text": [
      "unit_time: 7.532976880669594\n",
      "Unknown\n"
     ]
    },
    {
     "data": {
      "image/png": "[encoded data removed]",
      "text/plain": [
       "<Figure size 432x288 with 1 Axes>"
      ]
     },
     "metadata": {
      "needs_background": "light"
     },
     "output_type": "display_data"
    },
    {
     "name": "stdout",
     "output_type": "stream",
     "text": [
      "unit_time: 0.000525742769241333\n",
      "Android\n"
     ]
    },
    {
     "data": {
      "image/png": "[encoded data removed]",
      "text/plain": [
       "<Figure size 432x288 with 1 Axes>"
      ]
     },
     "metadata": {
      "needs_background": "light"
     },
     "output_type": "display_data"
    }
   ],
   "source": [
    "X = []\n",
    "for file in files:\n",
    "    counting_matrix, unit_time = extract_API_seqence_to_counting_matrix(file[:-4] + '.csv')\n",
    "    img = making_image(counting_matrix)\n",
    "    print(query_family(file[0:-4]))\n",
    "    plt.imshow(img)\n",
    "    plt.show()\n",
    "    X.append(img)\n",
    "X = np.array(X)"
   ]
  },
  {
   "cell_type": "code",
   "execution_count": 10,
   "id": "4d9c8891",
   "metadata": {},
   "outputs": [],
   "source": [
    "def target_encode(t):\n",
    "    if t == \"Unknown\": return 0\n",
    "    if t == \"Mirai\": return 1\n",
    "    if t == \"Android\": return 2\n",
    "Y = np.zeros(len(X))\n",
    "for i in range(len(Y)):\n",
    "    Y[i] = target_encode(all_category_count[i])"
   ]
  },
  {
   "cell_type": "code",
   "execution_count": 11,
   "id": "ebadb918",
   "metadata": {},
   "outputs": [],
   "source": [
    "img_rows, img_cols = 16, 16\n",
    "# the data, split between train and test sets\n",
    "x_train = X\n",
    "x_test = X\n",
    "y_train = Y\n",
    "y_test = Y\n",
    "\n",
    "if K.image_data_format() == 'channels_first':\n",
    "    x_train = x_train.reshape(x_train.shape[0], 1, img_rows, img_cols)\n",
    "    x_test = x_test.reshape(x_test.shape[0], 1, img_rows, img_cols)\n",
    "    input_shape = (1, img_rows, img_cols)\n",
    "else:\n",
    "    x_train = x_train.reshape(x_train.shape[0], img_rows, img_cols, 3)\n",
    "    x_test = x_test.reshape(x_test.shape[0], img_rows, img_cols, 3)\n",
    "    input_shape = (img_rows, img_cols, 3)\n",
    "\n",
    "x_train = x_train.astype('float32')\n",
    "x_test = x_test.astype('float32')\n",
    "y_train = y_train.astype('int')\n",
    "y_test = y_test.astype('int')\n",
    "x_train /= 255\n",
    "x_test /= 255"
   ]
  },
  {
   "cell_type": "code",
   "execution_count": 19,
   "id": "dca8f607",
   "metadata": {},
   "outputs": [
    {
     "name": "stderr",
     "output_type": "stream",
     "text": [
      "C:\\Users\\cherry\\anaconda3\\lib\\site-packages\\keras\\engine\\training.py:1972: UserWarning: `Model.fit_generator` is deprecated and will be removed in a future version. Please use `Model.fit`, which supports generators.\n",
      "  warnings.warn('`Model.fit_generator` is deprecated and '\n"
     ]
    },
    {
     "name": "stdout",
     "output_type": "stream",
     "text": [
      "Epoch 1/10\n",
      "1/1 [==============================] - 2s 588ms/step - loss: 0.6621 - accuracy: 0.5625 - val_loss: 0.6964 - val_accuracy: 0.2500\n",
      "INFO:tensorflow:Assets written to: .\\siamese_checkpoint\\assets\n",
      "Epoch 2/10\n",
      "1/1 [==============================] - 0s 82ms/step - loss: 0.8516 - accuracy: 0.4375 - val_loss: 0.6969 - val_accuracy: 0.5000\n",
      "INFO:tensorflow:Assets written to: .\\siamese_checkpoint\\assets\n",
      "Epoch 3/10\n",
      "1/1 [==============================] - 0s 74ms/step - loss: 0.7032 - accuracy: 0.5000 - val_loss: 0.6897 - val_accuracy: 0.8125\n",
      "INFO:tensorflow:Assets written to: .\\siamese_checkpoint\\assets\n",
      "Epoch 4/10\n",
      "1/1 [==============================] - 0s 68ms/step - loss: 0.5833 - accuracy: 0.6875 - val_loss: 0.6855 - val_accuracy: 0.8125\n",
      "Epoch 5/10\n",
      "1/1 [==============================] - 0s 72ms/step - loss: 0.5603 - accuracy: 0.6875 - val_loss: 0.6786 - val_accuracy: 0.8750\n",
      "INFO:tensorflow:Assets written to: .\\siamese_checkpoint\\assets\n",
      "Epoch 6/10\n",
      "1/1 [==============================] - 0s 69ms/step - loss: 0.6390 - accuracy: 0.5625 - val_loss: 0.6749 - val_accuracy: 0.8750\n",
      "Epoch 7/10\n",
      "1/1 [==============================] - 0s 62ms/step - loss: 0.4994 - accuracy: 0.6875 - val_loss: 0.6746 - val_accuracy: 1.0000\n",
      "INFO:tensorflow:Assets written to: .\\siamese_checkpoint\\assets\n",
      "Epoch 8/10\n",
      "1/1 [==============================] - 0s 99ms/step - loss: 0.4232 - accuracy: 0.8750 - val_loss: 0.6696 - val_accuracy: 1.0000\n",
      "Epoch 9/10\n",
      "1/1 [==============================] - 0s 88ms/step - loss: 0.5358 - accuracy: 0.6875 - val_loss: 0.6540 - val_accuracy: 1.0000\n",
      "Epoch 10/10\n",
      "1/1 [==============================] - 0s 69ms/step - loss: 0.5155 - accuracy: 0.6250 - val_loss: 0.6634 - val_accuracy: 1.0000\n"
     ]
    }
   ],
   "source": [
    "base_model = create_base_model(input_shape)\n",
    "head_model = create_head_model(base_model.output_shape)\n",
    "\n",
    "siamese_network = SiameseNetwork(base_model, head_model)\n",
    "siamese_network.compile(loss='binary_crossentropy', optimizer=tf.keras.optimizers.Adam(), metrics=['accuracy'])\n",
    "\n",
    "siamese_checkpoint_path = \"./siamese_checkpoint\"\n",
    "\n",
    "siamese_callbacks = [\n",
    "    EarlyStopping(monitor='val_accuracy', patience=10, verbose=0),\n",
    "    ModelCheckpoint(siamese_checkpoint_path, monitor='val_accuracy', save_best_only=True, verbose=0)\n",
    "]\n",
    "\n",
    "few_shot_index = [np.where(y_train == i)[0][:5] for i in range(num_classes)]\n",
    "few_shot_index = np.concatenate(few_shot_index, axis=None)\n",
    "x_train_fewshot = x_train[few_shot_index]\n",
    "y_train_fewshot = y_train[few_shot_index]\n",
    "few_shot_index = [np.where(y_train == i)[0][5:] for i in range(num_classes)]\n",
    "few_shot_index = np.concatenate(few_shot_index, axis=None)\n",
    "x_test = x_train[few_shot_index]\n",
    "y_test = y_train[few_shot_index]\n",
    "\n",
    "siamese_network.fit(x_train_fewshot, y_train_fewshot,\n",
    "                    validation_data=(x_train_fewshot[:500], y_train_fewshot[:500]),\n",
    "                    batch_size=8,\n",
    "                    epochs=10,\n",
    "                    callbacks=siamese_callbacks)"
   ]
  },
  {
   "cell_type": "code",
   "execution_count": 20,
   "id": "e1819b6d",
   "metadata": {},
   "outputs": [
    {
     "name": "stdout",
     "output_type": "stream",
     "text": [
      "[0.6616181135177612, 0.875]\n",
      "[0.6568874716758728, 0.875]\n"
     ]
    },
    {
     "name": "stderr",
     "output_type": "stream",
     "text": [
      "C:\\Users\\cherry\\anaconda3\\lib\\site-packages\\keras\\engine\\training.py:2006: UserWarning: `Model.evaluate_generator` is deprecated and will be removed in a future version. Please use `Model.evaluate`, which supports generators.\n",
      "  warnings.warn('`Model.evaluate_generator` is deprecated and '\n"
     ]
    },
    {
     "name": "stdout",
     "output_type": "stream",
     "text": [
      "[0.6671690940856934, 0.8125]\n",
      "[0.6626760959625244, 0.75]\n",
      "[0.664542555809021, 0.8125]\n",
      "[0.6647012233734131, 0.9375]\n",
      "[0.6726974844932556, 0.625]\n",
      "[0.6649696826934814, 0.9375]\n",
      "[0.6681965589523315, 0.8125]\n",
      "[0.672442615032196, 0.75]\n"
     ]
    }
   ],
   "source": [
    "for i in range(10):\n",
    "    print(siamese_network.evaluate(x_test, y_test, batch_size=8))"
   ]
  },
  {
   "cell_type": "code",
   "execution_count": null,
   "id": "c3b0bd40",
   "metadata": {},
   "outputs": [],
   "source": []
  }
 ],
 "metadata": {
  "kernelspec": {
   "display_name": "Python 3",
   "language": "python",
   "name": "python3"
  },
  "language_info": {
   "codemirror_mode": {
    "name": "ipython",
    "version": 3
   },
   "file_extension": ".py",
   "mimetype": "text/x-python",
   "name": "python",
   "nbconvert_exporter": "python",
   "pygments_lexer": "ipython3",
   "version": "3.8.8"
  }
 },
 "nbformat": 4,
 "nbformat_minor": 5
}
